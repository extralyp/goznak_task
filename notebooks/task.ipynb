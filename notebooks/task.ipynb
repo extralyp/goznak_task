{
 "cells": [
  {
   "cell_type": "markdown",
   "id": "1e100927",
   "metadata": {},
   "source": [
    "Написать программу с функцией multiplicate(A), принимающей на вход массив целых чисел А ненулевой длины и массив такой же длины, в котором на i-ом месте находится произведение всех чисел массива А, кроме числа, стоящего на i-ом месте.\n",
    "\n",
    "Язык программирования: Python.\n",
    "\n",
    "Использование дополнительных библиотек и функций: не разрешается.\n",
    "\n",
    "В качестве решения необходимо прислать ссылку на GitHub.\n",
    "\n",
    "Пример\n",
    "\n",
    "На вход подается массив [1, 2, 3, 4]\n",
    "\n",
    "На выходе функции ожидается массив [24, 12, 8, 6]\n"
   ]
  },
  {
   "cell_type": "markdown",
   "id": "b81d56bc",
   "metadata": {},
   "source": [
    "tests:\n",
    "\n",
    "    [1, 2, 3, 4] -> [24, 12, 8, 6]\n",
    "    \n",
    "    [1] -> [1]\n",
    "    \n",
    "    [2,2] -> [2,2]\n",
    "    \n",
    "    [3,5] -> [5,3]\n",
    "    \n",
    "    [3,3,3] -> [9,9,9]\n",
    "    \n",
    "    [3,0,3] -> [0,9,0]\n",
    "    \n",
    "    [5,4,-3] -> [-12,-15,20]"
   ]
  },
  {
   "cell_type": "code",
   "execution_count": 53,
   "id": "3e126b5c",
   "metadata": {},
   "outputs": [],
   "source": [
    "def multiplicate_v1(arr):\n",
    "    new_arr = []\n",
    "    len_arr = len(arr)\n",
    "    if len_arr == 1:\n",
    "        return arr\n",
    "    else:\n",
    "        for i in range(len_arr):\n",
    "            container = arr.copy()\n",
    "            mult = 1\n",
    "            container.pop(i)\n",
    "            for el in container:\n",
    "                mult *= el\n",
    "            new_arr.append(mult)\n",
    "        return new_arr"
   ]
  },
  {
   "cell_type": "code",
   "execution_count": 54,
   "id": "25f29f7d",
   "metadata": {},
   "outputs": [
    {
     "data": {
      "text/plain": [
       "[24, 12, 8, 6]"
      ]
     },
     "execution_count": 54,
     "metadata": {},
     "output_type": "execute_result"
    }
   ],
   "source": [
    "multiplicate_v1([1, 2, 3, 4])\n"
   ]
  },
  {
   "cell_type": "code",
   "execution_count": 73,
   "id": "a5b907eb",
   "metadata": {},
   "outputs": [
    {
     "data": {
      "text/plain": [
       "[0, 9, 0]"
      ]
     },
     "execution_count": 73,
     "metadata": {},
     "output_type": "execute_result"
    }
   ],
   "source": [
    "multiplicate_v1([3,0,3])\n"
   ]
  },
  {
   "cell_type": "code",
   "execution_count": 74,
   "id": "698348c1",
   "metadata": {},
   "outputs": [
    {
     "data": {
      "text/plain": [
       "[0, 0, 0, 0]"
      ]
     },
     "execution_count": 74,
     "metadata": {},
     "output_type": "execute_result"
    }
   ],
   "source": [
    "multiplicate_v1([1, 0, 0, 0])\n"
   ]
  },
  {
   "cell_type": "code",
   "execution_count": null,
   "id": "e25292a5",
   "metadata": {},
   "outputs": [],
   "source": []
  }
 ],
 "metadata": {
  "kernelspec": {
   "display_name": "Python 3 (ipykernel)",
   "language": "python",
   "name": "python3"
  },
  "language_info": {
   "codemirror_mode": {
    "name": "ipython",
    "version": 3
   },
   "file_extension": ".py",
   "mimetype": "text/x-python",
   "name": "python",
   "nbconvert_exporter": "python",
   "pygments_lexer": "ipython3",
   "version": "3.8.0"
  }
 },
 "nbformat": 4,
 "nbformat_minor": 5
}
