{
 "cells": [
  {
   "cell_type": "code",
   "execution_count": 1,
   "id": "2a99bd89",
   "metadata": {},
   "outputs": [],
   "source": [
    "import numpy as np\n",
    "import pickle\n"
   ]
  },
  {
   "cell_type": "code",
   "execution_count": 2,
   "id": "595aa528",
   "metadata": {},
   "outputs": [],
   "source": [
    "test_path_to_clean = r'C:\\Users\\ke4\\Desktop\\Goznak_ML_Tasks\\val\\clean\\82\\82_121544_82-121544-0111.npy'\n",
    "test_path_to_noise = r'C:\\Users\\ke4\\Desktop\\Goznak_ML_Tasks\\val\\noisy\\82\\82_121544_82-121544-0111.npy'\n",
    "\n",
    "with open(\"models/rnd_for.pkl\", \"rb\") as f:\n",
    "    clf = pickle.load(f)\n"
   ]
  },
  {
   "cell_type": "code",
   "execution_count": 3,
   "id": "77a58921",
   "metadata": {},
   "outputs": [],
   "source": [
    "def get_predict(meg, clf):\n",
    "    window_size = 80\n",
    "    step_factor = 1\n",
    "    data = np.load(meg)\n",
    "\n",
    "    step = int(window_size * step_factor)\n",
    "    new_features = list()\n",
    "    for i in range(0, data.shape[0] - window_size + 1, step):\n",
    "        new_features.append([data[i:i + window_size, j] for j in range(data.shape[1])])\n",
    "    wind_feature = np.array(new_features)\n",
    "    \n",
    "    test = wind_feature.reshape(wind_feature.shape[0], wind_feature.shape[1] * wind_feature.shape[2])\n",
    "    \n",
    "    predict_wind = []\n",
    "    for wind in test:\n",
    "        predict_wind.append(clf.predict(wind.reshape(1, -1)))\n",
    "        \n",
    "    if np.mean(predict_wind)>0.5:\n",
    "        return 1\n",
    "    else:\n",
    "        return 0"
   ]
  },
  {
   "cell_type": "code",
   "execution_count": 4,
   "id": "e7fd4e5f",
   "metadata": {},
   "outputs": [
    {
     "data": {
      "text/plain": [
       "0"
      ]
     },
     "execution_count": 4,
     "metadata": {},
     "output_type": "execute_result"
    }
   ],
   "source": [
    "get_predict(test_path_to_clean, clf)"
   ]
  },
  {
   "cell_type": "code",
   "execution_count": 5,
   "id": "5e573eed",
   "metadata": {},
   "outputs": [
    {
     "data": {
      "text/plain": [
       "1"
      ]
     },
     "execution_count": 5,
     "metadata": {},
     "output_type": "execute_result"
    }
   ],
   "source": [
    "get_predict(test_path_to_noise, clf)"
   ]
  },
  {
   "cell_type": "code",
   "execution_count": null,
   "id": "d6e655bb",
   "metadata": {},
   "outputs": [],
   "source": []
  }
 ],
 "metadata": {
  "kernelspec": {
   "display_name": "Python 3 (ipykernel)",
   "language": "python",
   "name": "python3"
  },
  "language_info": {
   "codemirror_mode": {
    "name": "ipython",
    "version": 3
   },
   "file_extension": ".py",
   "mimetype": "text/x-python",
   "name": "python",
   "nbconvert_exporter": "python",
   "pygments_lexer": "ipython3",
   "version": "3.8.0"
  }
 },
 "nbformat": 4,
 "nbformat_minor": 5
}
