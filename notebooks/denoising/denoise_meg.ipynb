{
 "cells": [
  {
   "cell_type": "code",
   "execution_count": 20,
   "id": "c13386cd",
   "metadata": {},
   "outputs": [],
   "source": [
    "from keras.models import load_model\n",
    "import numpy as np"
   ]
  },
  {
   "cell_type": "code",
   "execution_count": 21,
   "id": "df67b56c",
   "metadata": {},
   "outputs": [],
   "source": [
    "meg = r\"C:\\Users\\ke4\\Desktop\\Goznak_ML_Tasks\\val\\noisy\\253\\253_124400_253-124400-0052.npy\""
   ]
  },
  {
   "cell_type": "code",
   "execution_count": 22,
   "id": "fe3ef2cb",
   "metadata": {},
   "outputs": [],
   "source": [
    "def get_predict(meg):\n",
    "    window_size = 80\n",
    "    step_factor = 1\n",
    "    step = int(window_size * step_factor)\n",
    "    new_features = list()\n",
    "    for i in range(0, meg.shape[0] - window_size + 1, step):\n",
    "        new_features.append([meg[i:i + window_size, j] for j in range(meg.shape[1])])\n",
    "    wind_feature = np.array(new_features)\n",
    "    return wind_feature"
   ]
  },
  {
   "cell_type": "code",
   "execution_count": 23,
   "id": "4735f7ff",
   "metadata": {},
   "outputs": [],
   "source": [
    "def reverse_window(window_arr):\n",
    "    last_arr = np.empty((0,80))\n",
    "    for arr in window_arr:\n",
    "        last_arr = np.concatenate([last_arr, arr.T])\n",
    "    return last_arr"
   ]
  },
  {
   "cell_type": "code",
   "execution_count": 24,
   "id": "b69e665f",
   "metadata": {},
   "outputs": [],
   "source": [
    "def denoised(path_to_meg):\n",
    "    model = load_model(\"models/denoise_autoencoder.h5\")\n",
    "    denoised = reverse_window(model.predict(get_predict(np.load(path_to_meg))))\n",
    "    return denoised"
   ]
  },
  {
   "cell_type": "code",
   "execution_count": null,
   "id": "196c8660",
   "metadata": {},
   "outputs": [],
   "source": []
  },
  {
   "cell_type": "code",
   "execution_count": 27,
   "id": "2048b60b",
   "metadata": {},
   "outputs": [
    {
     "name": "stdout",
     "output_type": "stream",
     "text": [
      "1/1 [==============================] - 0s 169ms/step\n"
     ]
    },
    {
     "data": {
      "text/plain": [
       "array([[ 0.32570225,  0.27061117,  0.12789388, ..., -0.51700687,\n",
       "        -0.48119327, -0.42838481],\n",
       "       [ 0.37198478,  0.267124  ,  0.0850197 , ..., -0.58904982,\n",
       "        -0.56469679, -0.49968463],\n",
       "       [ 0.43528989,  0.27469039,  0.10287908, ..., -0.64489442,\n",
       "        -0.62769997, -0.54688925],\n",
       "       ...,\n",
       "       [ 0.73220772,  0.8227542 ,  0.76737094, ...,  0.55075026,\n",
       "         0.51427269,  0.29915991],\n",
       "       [ 0.75468016,  0.79684108,  0.70973545, ...,  0.57845533,\n",
       "         0.527677  ,  0.31529623],\n",
       "       [ 0.78971356,  0.79670805,  0.72059184, ...,  0.55585182,\n",
       "         0.50251806,  0.29959527]])"
      ]
     },
     "execution_count": 27,
     "metadata": {},
     "output_type": "execute_result"
    }
   ],
   "source": [
    "denoised(meg)"
   ]
  },
  {
   "cell_type": "code",
   "execution_count": null,
   "id": "e1c00123",
   "metadata": {},
   "outputs": [],
   "source": []
  }
 ],
 "metadata": {
  "kernelspec": {
   "display_name": "Python 3 (ipykernel)",
   "language": "python",
   "name": "python3"
  },
  "language_info": {
   "codemirror_mode": {
    "name": "ipython",
    "version": 3
   },
   "file_extension": ".py",
   "mimetype": "text/x-python",
   "name": "python",
   "nbconvert_exporter": "python",
   "pygments_lexer": "ipython3",
   "version": "3.8.0"
  }
 },
 "nbformat": 4,
 "nbformat_minor": 5
}
